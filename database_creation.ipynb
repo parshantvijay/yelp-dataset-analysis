{
 "cells": [
  {
   "cell_type": "code",
   "execution_count": 1,
   "metadata": {},
   "outputs": [],
   "source": [
    "import pandas as pd\n",
    "import json\n",
    "from sqlalchemy import create_engine"
   ]
  },
  {
   "cell_type": "code",
   "execution_count": 3,
   "metadata": {},
   "outputs": [],
   "source": [
    "# Function to load JSON data into DataFrame using chunksize\n",
    "def load_json_to_dataframe(filename, chunksize=None):\n",
    "    data = []\n",
    "    with open(filename, 'r', encoding='utf-8') as f:\n",
    "        for line in f:\n",
    "            data.append(json.loads(line))\n",
    "    return pd.DataFrame(data)"
   ]
  },
  {
   "cell_type": "code",
   "execution_count": 4,
   "metadata": {},
   "outputs": [],
   "source": [
    "# File paths\n",
    "business_file = 'yelp_academic_dataset_business.json'\n",
    "checkin_file = 'yelp_academic_dataset_checkin.json'\n",
    "review_file = 'yelp_academic_dataset_review.json'\n",
    "tip_file = 'yelp_academic_dataset_tip.json'\n",
    "user_file = 'yelp_academic_dataset_user.json'"
   ]
  },
  {
   "cell_type": "code",
   "execution_count": 5,
   "metadata": {},
   "outputs": [],
   "source": [
    "business_df = load_json_to_dataframe(business_file,20000)\n",
    "checkin_df = load_json_to_dataframe(checkin_file,20000)\n",
    "review_df = load_json_to_dataframe(review_file,20000)\n",
    "tip_df = load_json_to_dataframe(tip_file,20000)\n",
    "user_df = load_json_to_dataframe(user_file,20000)"
   ]
  },
  {
   "cell_type": "code",
   "execution_count": 6,
   "metadata": {},
   "outputs": [],
   "source": [
    "business_df.drop(['attributes', 'hours'], axis=1, inplace=True)"
   ]
  },
  {
   "cell_type": "code",
   "execution_count": 10,
   "metadata": {},
   "outputs": [
    {
     "name": "stdout",
     "output_type": "stream",
     "text": [
      "Business DF Shape:  (150346, 12)\n",
      "Checkin DF Shape:  (131930, 2)\n",
      "Review DF Shape:  (6990280, 9)\n",
      "Tip DF Shape:  (908915, 5)\n",
      "User DF Shape:  (1987897, 22)\n"
     ]
    }
   ],
   "source": [
    "print(\"Business DF Shape: \", business_df.shape)\n",
    "print(\"Checkin DF Shape: \", checkin_df.shape)\n",
    "print(\"Review DF Shape: \", review_df.shape)\n",
    "print(\"Tip DF Shape: \", tip_df.shape)\n",
    "print(\"User DF Shape: \",user_df.shape)"
   ]
  },
  {
   "cell_type": "code",
   "execution_count": 7,
   "metadata": {},
   "outputs": [],
   "source": [
    "engine = create_engine('sqlite:///yelp.db')"
   ]
  },
  {
   "cell_type": "code",
   "execution_count": 8,
   "metadata": {},
   "outputs": [],
   "source": [
    "def load_dataframe(df, tablename, engine):\n",
    "    df.to_sql(tablename, con=engine, if_exists='replace', index=False)"
   ]
  },
  {
   "cell_type": "code",
   "execution_count": 9,
   "metadata": {},
   "outputs": [],
   "source": [
    "load_dataframe(business_df, 'business', engine)\n",
    "load_dataframe(checkin_df, 'checkin', engine)\n",
    "load_dataframe(review_df, 'review', engine)\n",
    "load_dataframe(tip_df, 'tip', engine)\n",
    "load_dataframe(user_df, 'user', engine)"
   ]
  }
 ],
 "metadata": {
  "kernelspec": {
   "display_name": "Python 3",
   "language": "python",
   "name": "python3"
  },
  "language_info": {
   "codemirror_mode": {
    "name": "ipython",
    "version": 3
   },
   "file_extension": ".py",
   "mimetype": "text/x-python",
   "name": "python",
   "nbconvert_exporter": "python",
   "pygments_lexer": "ipython3",
   "version": "3.12.1"
  }
 },
 "nbformat": 4,
 "nbformat_minor": 2
}
